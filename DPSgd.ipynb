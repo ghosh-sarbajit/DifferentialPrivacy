{
  "nbformat": 4,
  "nbformat_minor": 0,
  "metadata": {
    "colab": {
      "provenance": [],
      "authorship_tag": "ABX9TyPEEDcB8/GwfsSjkiDaq6X6",
      "include_colab_link": true
    },
    "kernelspec": {
      "name": "python3",
      "display_name": "Python 3"
    },
    "language_info": {
      "name": "python"
    }
  },
  "cells": [
    {
      "cell_type": "markdown",
      "metadata": {
        "id": "view-in-github",
        "colab_type": "text"
      },
      "source": [
        "<a href=\"https://colab.research.google.com/github/ghosh-sarbajit/DifferentialPrivacy/blob/main/DPSgd.ipynb\" target=\"_parent\"><img src=\"https://colab.research.google.com/assets/colab-badge.svg\" alt=\"Open In Colab\"/></a>"
      ]
    },
    {
      "cell_type": "code",
      "execution_count": 5,
      "metadata": {
        "id": "uisKALJk-pAO"
      },
      "outputs": [],
      "source": [
        "!pip install opacus\n",
        "!pip install opendp\n",
        "from IPython.display import clear_output\n",
        "clear_output()"
      ]
    },
    {
      "cell_type": "code",
      "source": [
        "import numpy as np\n",
        "import opendp.prelude as dp"
      ],
      "metadata": {
        "id": "2NIB12aRTtrF"
      },
      "execution_count": 6,
      "outputs": []
    },
    {
      "cell_type": "code",
      "source": [
        "def make_nabla_loss_i(w):\n",
        "    dp.assert_features(\"contrib\", \"floating-point\")\n",
        "    w_0, w_1 = w\n",
        "    def f_compute_grads(data):\n",
        "        x, y = data[np.newaxis].T\n",
        "        y_hat = w_0 + w_1 * x # forward pass y^ = f(x)\n",
        "        return (y_hat - y) * np.column_stack([np.ones(x.size), x])\n",
        "    space = dp.np_array2_domain(T=float), dp.symmetric_distance()\n",
        "    return dp.t.make_user_transformation(\n",
        "        *space, *space, f_compute_grads,\n",
        "        stability_map=lambda b_in: b_in)"
      ],
      "metadata": {
        "id": "vRQzb1fOTCoZ"
      },
      "execution_count": 7,
      "outputs": []
    },
    {
      "cell_type": "code",
      "source": [],
      "metadata": {
        "id": "JYmIJRgST79u"
      },
      "execution_count": null,
      "outputs": []
    },
    {
      "cell_type": "code",
      "source": [
        "import pandas as pd\n",
        "import torch\n",
        "import torch.nn as nn\n",
        "from sklearn.compose import make_column_transformer\n",
        "from sklearn.preprocessing import LabelEncoder, StandardScaler, \\\n",
        "OrdinalEncoder, Normalizer\n",
        "from opacus import PrivacyEngine"
      ],
      "metadata": {
        "id": "ROc1yj9GKAqn"
      },
      "execution_count": 3,
      "outputs": []
    },
    {
      "cell_type": "code",
      "source": [
        "class AdultDataSet(Dataset):\n",
        "    def __init__(self, adult_data_file):\n",
        "    header = ['age', 'workclass', 'fnlwgt', 'education', 'education_num',\n",
        "    'marital_status', 'occupation', 'relationship',\n",
        "    'race', 'sex', 'capital_gain', 'capital_loss',\n",
        "    'hours_per_week', 'native_country', 'income']\n",
        "    df = pd.read_csv(adult_data_file, header=None, names=header,\n",
        "    sep=',\\\\s', na_values=['?'], engine='python')\n",
        "    df = df.dropna()\n",
        "    df = df.reset_index(drop=True)\n",
        "    df['income'] = df['income'].apply(lambda x: x.replace('.', ''))\n",
        "    categorical_columns = ['workclass', 'education', 'marital_status',\n",
        "    'occupation', 'relationship', 'race', 'sex',\n",
        "    'native_country']\n",
        "    numerical_columns = ['age', 'capital_gain',\n",
        "    'capital_loss', 'hours_per_week']\n",
        "    column_transformer = make_column_transformer(\n",
        "    (OrdinalEncoder(), categorical_columns),\n",
        "    (StandardScaler(), numerical_columns),\n",
        "    )\n",
        "    self.y = LabelEncoder().fit_transform(df['income']).astype(float)\n",
        "    self.X = column_transformer.fit_transform(df)\n",
        "    self.X = Normalizer().fit_transform(self.X)\n",
        "    def __len__(self):\n",
        "    return len(self.y)"
      ],
      "metadata": {
        "id": "T-R9AzXtRA9p"
      },
      "execution_count": null,
      "outputs": []
    }
  ]
}